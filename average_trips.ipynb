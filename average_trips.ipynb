{
 "cells": [
  {
   "cell_type": "code",
   "execution_count": 4,
   "metadata": {
    "collapsed": true
   },
   "outputs": [
    {
     "name": "stdout",
     "output_type": "stream",
     "text": [
      "Region has an average of 10 trips for region Prague in the week starting 2018-05-01 00:00:00\n",
      "Region has an average of 8 trips for region Turin in the week starting 2018-05-01 00:00:00\n",
      "Region has an average of 6 trips for region Hamburg in the week starting 2018-05-01 00:00:00\n"
     ]
    }
   ],
   "source": [
    "from db_helper import get_trips_between_dates\n",
    "from helper_functions import is_in_bounding_box\n",
    "import datetime\n",
    "\n",
    "bounding_coords = [(68, -25), (68, 35), (33, -25), (33, 35)]\n",
    "\n",
    "regions = ['Prague', 'Turin', 'Hamburg']\n",
    "date_1 = datetime.datetime(2018, 5, 1, 0, 0, 0)\n",
    "date_2 = date_1 + datetime.timedelta(days=7)\n",
    "for region in regions:\n",
    "    avg = 0\n",
    "    week_rows = get_trips_between_dates(region=region, date_1=date_1, date_2=date_2)\n",
    "    coords_by_id = {row.trip_id: [row.origin_lat, row.origin_lon, row.dest_lat, row.dest_lon] for row in week_rows}\n",
    "    for coord_id in coords_by_id:\n",
    "        coords = coords_by_id[coord_id]\n",
    "        if is_in_bounding_box(bounding_coords=bounding_coords, coord=(coords[0], coords[1])) and is_in_bounding_box(bounding_coords=bounding_coords, coord=(coords[2], coords[3])):\n",
    "            avg += 1\n",
    "    print(f'Region has an average of {avg} trips for region {region} in the week starting {date_1}')"
   ]
  },
  {
   "cell_type": "code",
   "execution_count": null,
   "outputs": [],
   "source": [],
   "metadata": {
    "collapsed": false,
    "pycharm": {
     "is_executing": true
    }
   }
  },
  {
   "cell_type": "code",
   "execution_count": 2,
   "outputs": [],
   "source": [],
   "metadata": {
    "collapsed": false
   }
  }
 ],
 "metadata": {
  "kernelspec": {
   "display_name": "Python 3",
   "language": "python",
   "name": "python3"
  },
  "language_info": {
   "codemirror_mode": {
    "name": "ipython",
    "version": 2
   },
   "file_extension": ".py",
   "mimetype": "text/x-python",
   "name": "python",
   "nbconvert_exporter": "python",
   "pygments_lexer": "ipython2",
   "version": "2.7.6"
  }
 },
 "nbformat": 4,
 "nbformat_minor": 0
}
