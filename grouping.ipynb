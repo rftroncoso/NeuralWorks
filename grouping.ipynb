{
 "cells": [
  {
   "cell_type": "code",
   "execution_count": 4,
   "metadata": {
    "collapsed": true
   },
   "outputs": [
    {
     "name": "stdout",
     "output_type": "stream",
     "text": [
      "In region Prague close distance trips are [1, 14, 16, 18, 27, 30, 33, 41, 43, 45, 51, 61, 68, 78, 96]\n",
      "In region Turin close distance trips are [1, 14, 16, 18, 27, 30, 33, 41, 43, 45, 51, 61, 68, 78, 96, 2, 8, 9, 13, 19, 25, 31, 32, 34, 44, 50, 63, 64, 67, 69, 71, 72, 75, 77, 85, 87]\n",
      "In region Hamburg close distance trips are [1, 14, 16, 18, 27, 30, 33, 41, 43, 45, 51, 61, 68, 78, 96, 2, 8, 9, 13, 19, 25, 31, 32, 34, 44, 50, 63, 64, 67, 69, 71, 72, 75, 77, 85, 87, 10, 11, 20, 40, 49, 93, 94, 99]\n"
     ]
    }
   ],
   "source": [
    "from db_helper import get_trips_by_region\n",
    "from helper_functions import calculate_distance\n",
    "\n",
    "\n",
    "# Primero agrupamos los viajes según región y luego agrupamos en la variable \"close_distance_trips\" los viajes cuyas distancias sean menores que d = 1km\n",
    "d = 10\n",
    "close_distance_trips = []\n",
    "regions = ['Prague', 'Turin', 'Hamburg']\n",
    "for region in regions:\n",
    "    rows_by_region = get_trips_by_region(region=region)\n",
    "    coords_by_id = {row.trip_id: [row.origin_lat, row.origin_lon, row.dest_lat, row.dest_lon] for row in rows_by_region}\n",
    "    for coord_id in coords_by_id:\n",
    "        coords = coords_by_id[coord_id]\n",
    "        distance = calculate_distance(*coords)\n",
    "        #print(f'distance for id {coord_id} is {distance}')\n",
    "        if distance < d:\n",
    "            close_distance_trips.append(coord_id)\n",
    "    print(f'In region {region} close distance trips are {close_distance_trips}')"
   ]
  },
  {
   "cell_type": "code",
   "execution_count": 3,
   "outputs": [],
   "source": [],
   "metadata": {
    "collapsed": false
   }
  },
  {
   "cell_type": "code",
   "execution_count": 1,
   "outputs": [],
   "source": [],
   "metadata": {
    "collapsed": false
   }
  }
 ],
 "metadata": {
  "kernelspec": {
   "display_name": "Python 3",
   "language": "python",
   "name": "python3"
  },
  "language_info": {
   "codemirror_mode": {
    "name": "ipython",
    "version": 2
   },
   "file_extension": ".py",
   "mimetype": "text/x-python",
   "name": "python",
   "nbconvert_exporter": "python",
   "pygments_lexer": "ipython2",
   "version": "2.7.6"
  }
 },
 "nbformat": 4,
 "nbformat_minor": 0
}
