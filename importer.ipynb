{
 "cells": [
  {
   "cell_type": "code",
   "execution_count": 10,
   "metadata": {
    "collapsed": true
   },
   "outputs": [
    {
     "name": "stdout",
     "output_type": "stream",
     "text": [
      "Starting Migration\n",
      "Reading csv\n",
      "Importing into database\n",
      "Migration concluded\n"
     ]
    }
   ],
   "source": [
    "import csv\n",
    "from db_helper import insert_into_table\n",
    "from db_tables import Trips\n",
    "\n",
    "def parse_coords(point: str):\n",
    "    split = point.split(' ')\n",
    "    lat = float(split[2][:-1])\n",
    "    lon = float(split[1][1:])\n",
    "    return lat, lon\n",
    "\n",
    "print('Starting Migration')\n",
    "trips = []\n",
    "print('Reading csv')\n",
    "with open('trips.csv', mode ='r')as file:\n",
    "    csvFile = csv.reader(file)\n",
    "    next(csvFile)\n",
    "    for line in csvFile:\n",
    "        trip = {}\n",
    "        trip['region'] = line[0]\n",
    "        orig_coords = line[1]\n",
    "        dest_coords = line[2]\n",
    "        trip['origin_lat'], trip['origin_lon'] = parse_coords(orig_coords)\n",
    "        trip['dest_lat'], trip['dest_lon'] = parse_coords(dest_coords)\n",
    "        trip['datetime'] = line[3]\n",
    "        trip['datasource'] = line[4]\n",
    "        trips.append(trip)\n",
    "\n",
    "print('Importing into database')\n",
    "insert_into_table(_dicts=trips, table=Trips)\n",
    "print('Migration concluded')\n",
    "\n"
   ]
  },
  {
   "cell_type": "code",
   "execution_count": null,
   "outputs": [],
   "source": [],
   "metadata": {
    "collapsed": false,
    "pycharm": {
     "is_executing": true
    }
   }
  },
  {
   "cell_type": "code",
   "execution_count": 9,
   "outputs": [],
   "source": [],
   "metadata": {
    "collapsed": false
   }
  }
 ],
 "metadata": {
  "kernelspec": {
   "display_name": "Python 3",
   "language": "python",
   "name": "python3"
  },
  "language_info": {
   "codemirror_mode": {
    "name": "ipython",
    "version": 2
   },
   "file_extension": ".py",
   "mimetype": "text/x-python",
   "name": "python",
   "nbconvert_exporter": "python",
   "pygments_lexer": "ipython2",
   "version": "2.7.6"
  }
 },
 "nbformat": 4,
 "nbformat_minor": 0
}
